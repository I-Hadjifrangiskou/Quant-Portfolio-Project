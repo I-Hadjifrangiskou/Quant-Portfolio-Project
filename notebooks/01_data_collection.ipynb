{
 "cells": [
  {
   "cell_type": "code",
   "execution_count": null,
   "id": "9fcb5f1b",
   "metadata": {},
   "outputs": [
    {
     "name": "stderr",
     "output_type": "stream",
     "text": [
      "[*********************100%***********************]  5 of 5 completed"
     ]
    },
    {
     "name": "stdout",
     "output_type": "stream",
     "text": [
      "Ticker           AAPL       AMZN      GOOGL        META       MSFT\n",
      "Date                                                              \n",
      "2018-01-02  40.426823  59.450500  53.405170  180.568970  79.328522\n",
      "2018-01-03  40.419792  60.209999  54.316319  183.803741  79.697723\n",
      "2018-01-04  40.607533  60.479500  54.527306  183.465332  80.399155\n",
      "2018-01-05  41.069870  61.457001  55.250351  185.973511  81.395966\n",
      "2018-01-08  40.917316  62.343498  55.445419  187.396805  81.479027\n"
     ]
    },
    {
     "name": "stderr",
     "output_type": "stream",
     "text": [
      "\n"
     ]
    }
   ],
   "source": [
    "import yfinance as yf\n",
    "import pandas as pd\n",
    "\n",
    "# Select stocks to keep track of and get the adjusted closing prices for a range of dates \n",
    "tickers = ['AAPL', 'MSFT', 'GOOGL', 'AMZN', 'META']\n",
    "data = yf.download(tickers, start = \"2018-01-01\", end = \"2024-12-31\", auto_adjust = False)\n",
    "\n",
    "# Check if yfinance has multi-index column or not (otherwise we get an error certain times)\n",
    "if isinstance(data.columns, pd.MultiIndex):\n",
    "\n",
    "    # If MultiIndex (common with multiple tickers), extract 'Adj Close'\n",
    "    adj_close = data['Adj Close']\n",
    "\n",
    "else:\n",
    "\n",
    "    # If single ticker or flattened columns\n",
    "    adj_close = data\n",
    "\n",
    "# Print data for check\n",
    "print(adj_close.head())\n",
    "\n",
    "# Save data to csv\n",
    "adj_close.to_csv(\"../data/processed/price_data.csv\")\n"
   ]
  }
 ],
 "metadata": {
  "kernelspec": {
   "display_name": "venv",
   "language": "python",
   "name": "python3"
  },
  "language_info": {
   "codemirror_mode": {
    "name": "ipython",
    "version": 3
   },
   "file_extension": ".py",
   "mimetype": "text/x-python",
   "name": "python",
   "nbconvert_exporter": "python",
   "pygments_lexer": "ipython3",
   "version": "3.11.9"
  }
 },
 "nbformat": 4,
 "nbformat_minor": 5
}
